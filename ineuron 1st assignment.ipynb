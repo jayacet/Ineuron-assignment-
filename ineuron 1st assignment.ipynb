{
 "cells": [
  {
   "cell_type": "markdown",
   "metadata": {},
   "source": [
    "# Task 1"
   ]
  },
  {
   "cell_type": "markdown",
   "metadata": {},
   "source": [
    "#1"
   ]
  },
  {
   "cell_type": "code",
   "execution_count": 17,
   "metadata": {},
   "outputs": [
    {
     "name": "stdout",
     "output_type": "stream",
     "text": [
      "my name is jp\n"
     ]
    }
   ],
   "source": [
    "print(\"my name is jp\")"
   ]
  },
  {
   "cell_type": "markdown",
   "metadata": {},
   "source": [
    "#2"
   ]
  },
  {
   "cell_type": "code",
   "execution_count": 18,
   "metadata": {},
   "outputs": [
    {
     "data": {
      "text/plain": [
       "[2000,\n",
       " 2005,\n",
       " 2010,\n",
       " 2015,\n",
       " 2020,\n",
       " 2025,\n",
       " 2035,\n",
       " 2040,\n",
       " 2045,\n",
       " 2050,\n",
       " 2055,\n",
       " 2060,\n",
       " 2070,\n",
       " 2075,\n",
       " 2080,\n",
       " 2085,\n",
       " 2090,\n",
       " 2095,\n",
       " 2105,\n",
       " 2110,\n",
       " 2115,\n",
       " 2120,\n",
       " 2125,\n",
       " 2130,\n",
       " 2140,\n",
       " 2145,\n",
       " 2150,\n",
       " 2155,\n",
       " 2160,\n",
       " 2165,\n",
       " 2175,\n",
       " 2180,\n",
       " 2185,\n",
       " 2190,\n",
       " 2195,\n",
       " 2200,\n",
       " 2210,\n",
       " 2215,\n",
       " 2220,\n",
       " 2225,\n",
       " 2230,\n",
       " 2235,\n",
       " 2245,\n",
       " 2250,\n",
       " 2255,\n",
       " 2260,\n",
       " 2265,\n",
       " 2270,\n",
       " 2280,\n",
       " 2285,\n",
       " 2290,\n",
       " 2295,\n",
       " 2300,\n",
       " 2305,\n",
       " 2315,\n",
       " 2320,\n",
       " 2325,\n",
       " 2330,\n",
       " 2335,\n",
       " 2340,\n",
       " 2350,\n",
       " 2355,\n",
       " 2360,\n",
       " 2365,\n",
       " 2370,\n",
       " 2375,\n",
       " 2385,\n",
       " 2390,\n",
       " 2395,\n",
       " 2400,\n",
       " 2405,\n",
       " 2410,\n",
       " 2420,\n",
       " 2425,\n",
       " 2430,\n",
       " 2435,\n",
       " 2440,\n",
       " 2445,\n",
       " 2455,\n",
       " 2460,\n",
       " 2465,\n",
       " 2470,\n",
       " 2475,\n",
       " 2480,\n",
       " 2490,\n",
       " 2495,\n",
       " 2500,\n",
       " 2505,\n",
       " 2510,\n",
       " 2515,\n",
       " 2525,\n",
       " 2530,\n",
       " 2535,\n",
       " 2540,\n",
       " 2545,\n",
       " 2550,\n",
       " 2560,\n",
       " 2565,\n",
       " 2570,\n",
       " 2575,\n",
       " 2580,\n",
       " 2585,\n",
       " 2595,\n",
       " 2600,\n",
       " 2605,\n",
       " 2610,\n",
       " 2615,\n",
       " 2620,\n",
       " 2630,\n",
       " 2635,\n",
       " 2640,\n",
       " 2645,\n",
       " 2650,\n",
       " 2655,\n",
       " 2665,\n",
       " 2670,\n",
       " 2675,\n",
       " 2680,\n",
       " 2685,\n",
       " 2690,\n",
       " 2700,\n",
       " 2705,\n",
       " 2710,\n",
       " 2715,\n",
       " 2720,\n",
       " 2725,\n",
       " 2735,\n",
       " 2740,\n",
       " 2745,\n",
       " 2750,\n",
       " 2755,\n",
       " 2760,\n",
       " 2770,\n",
       " 2775,\n",
       " 2780,\n",
       " 2785,\n",
       " 2790,\n",
       " 2795,\n",
       " 2805,\n",
       " 2810,\n",
       " 2815,\n",
       " 2820,\n",
       " 2825,\n",
       " 2830,\n",
       " 2840,\n",
       " 2845,\n",
       " 2850,\n",
       " 2855,\n",
       " 2860,\n",
       " 2865,\n",
       " 2875,\n",
       " 2880,\n",
       " 2885,\n",
       " 2890,\n",
       " 2895,\n",
       " 2900,\n",
       " 2910,\n",
       " 2915,\n",
       " 2920,\n",
       " 2925,\n",
       " 2930,\n",
       " 2935,\n",
       " 2945,\n",
       " 2950,\n",
       " 2955,\n",
       " 2960,\n",
       " 2965,\n",
       " 2970,\n",
       " 2980,\n",
       " 2985,\n",
       " 2990,\n",
       " 2995,\n",
       " 3000,\n",
       " 3005,\n",
       " 3015,\n",
       " 3020,\n",
       " 3025,\n",
       " 3030,\n",
       " 3035,\n",
       " 3040,\n",
       " 3050,\n",
       " 3055,\n",
       " 3060,\n",
       " 3065,\n",
       " 3070,\n",
       " 3075,\n",
       " 3085,\n",
       " 3090,\n",
       " 3095,\n",
       " 3100,\n",
       " 3105,\n",
       " 3110,\n",
       " 3120,\n",
       " 3125,\n",
       " 3130,\n",
       " 3135,\n",
       " 3140,\n",
       " 3145,\n",
       " 3155,\n",
       " 3160,\n",
       " 3165,\n",
       " 3170,\n",
       " 3175,\n",
       " 3180,\n",
       " 3190,\n",
       " 3195,\n",
       " 3200]"
      ]
     },
     "execution_count": 18,
     "metadata": {},
     "output_type": "execute_result"
    }
   ],
   "source": [
    "m=[]\n",
    "i=2000\n",
    "while(i<=3200):\n",
    "    if(i%5==0 and i%7!=0):\n",
    "        m.append(i)\n",
    "    i=i+1\n",
    "m"
   ]
  },
  {
   "cell_type": "markdown",
   "metadata": {},
   "source": [
    "#3"
   ]
  },
  {
   "cell_type": "code",
   "execution_count": 27,
   "metadata": {},
   "outputs": [
    {
     "name": "stdout",
     "output_type": "stream",
     "text": [
      "enter you first name jaya \n",
      "enter your second namemishra\n",
      " ayaj arhsim\n"
     ]
    }
   ],
   "source": [
    "first=input(\"enter you first name \")\n",
    "second=input(\"enter your second name\")\n",
    "print(\"{} {}\".format(first[::-1],second[::-1]))"
   ]
  },
  {
   "cell_type": "code",
   "execution_count": 2,
   "metadata": {},
   "outputs": [
    {
     "data": {
      "text/plain": [
       "['Jaya', 'Mishra']"
      ]
     },
     "execution_count": 2,
     "metadata": {},
     "output_type": "execute_result"
    }
   ],
   "source": [
    "name"
   ]
  },
  {
   "cell_type": "markdown",
   "metadata": {},
   "source": [
    "#4"
   ]
  },
  {
   "cell_type": "code",
   "execution_count": 6,
   "metadata": {},
   "outputs": [
    {
     "name": "stdout",
     "output_type": "stream",
     "text": [
      "the volume of sphere is 7236.864\n"
     ]
    }
   ],
   "source": [
    "r=12\n",
    "v=(4/3)*3.141*r**3\n",
    "print(\"the volume of sphere is {}\".format(v))"
   ]
  },
  {
   "cell_type": "markdown",
   "metadata": {},
   "source": [
    "# Task 2"
   ]
  },
  {
   "cell_type": "code",
   "execution_count": 9,
   "metadata": {},
   "outputs": [
    {
     "name": "stdout",
     "output_type": "stream",
     "text": [
      "enter some comma separated number :2,3,4,5,6,3,5,6\n"
     ]
    },
    {
     "data": {
      "text/plain": [
       "['2', '3', '4', '5', '6', '3', '5', '6']"
      ]
     },
     "execution_count": 9,
     "metadata": {},
     "output_type": "execute_result"
    }
   ],
   "source": [
    "values=input(\"enter some comma separated number :\")\n",
    "list=values.split(\",\")\n",
    "list"
   ]
  },
  {
   "cell_type": "code",
   "execution_count": 10,
   "metadata": {},
   "outputs": [
    {
     "name": "stdout",
     "output_type": "stream",
     "text": [
      "enter number of rows5\n",
      "* \n",
      "* * \n",
      "* * * \n",
      "* * * * \n",
      "* * * * * \n",
      "* * * * * \n",
      "* * * * \n",
      "* * * \n",
      "* * \n",
      "* \n"
     ]
    }
   ],
   "source": [
    "rows=int(input(\"enter number of rows\"))\n",
    "for i in range(0,rows):\n",
    "    for j in range (0,i+1):\n",
    "        print(\"*\",end=' ')\n",
    "    print(\"\\r\")\n",
    "for i in range(rows,0,-1):\n",
    "    for j in range (i,0,-1):\n",
    "        print(\"* \", end='')\n",
    "    print(\"\\r\")\n"
   ]
  },
  {
   "cell_type": "markdown",
   "metadata": {},
   "source": [
    "#3"
   ]
  },
  {
   "cell_type": "code",
   "execution_count": 12,
   "metadata": {},
   "outputs": [
    {
     "name": "stdout",
     "output_type": "stream",
     "text": [
      "enter yor namejaya\n"
     ]
    },
    {
     "data": {
      "text/plain": [
       "'ayaj'"
      ]
     },
     "execution_count": 12,
     "metadata": {},
     "output_type": "execute_result"
    }
   ],
   "source": [
    "name=input(\"enter yor name\")\n",
    "reverse=name[::-1]\n",
    "reverse"
   ]
  },
  {
   "cell_type": "markdown",
   "metadata": {},
   "source": [
    "#4"
   ]
  },
  {
   "cell_type": "code",
   "execution_count": 16,
   "metadata": {},
   "outputs": [
    {
     "name": "stdout",
     "output_type": "stream",
     "text": [
      "WE, THE PEOPLE OF INDIA,\n",
      "\t having solemnly resolved to constitute India into a SOVEREIGN,!\n",
      "\t\t SOCIALIST, SECULAR, DEMOCRATIC REPUBLIC \n",
      "\t\t and to secure to all its citizens\n"
     ]
    }
   ],
   "source": [
    "print(\"WE, THE PEOPLE OF INDIA,\\n\\t having solemnly resolved to constitute India into a SOVEREIGN,!\\n\\t\\t SOCIALIST, SECULAR, DEMOCRATIC REPUBLIC \\n\\t\\t and to secure to all its citizens\")"
   ]
  },
  {
   "cell_type": "code",
   "execution_count": null,
   "metadata": {},
   "outputs": [],
   "source": []
  }
 ],
 "metadata": {
  "kernelspec": {
   "display_name": "Python 3",
   "language": "python",
   "name": "python3"
  },
  "language_info": {
   "codemirror_mode": {
    "name": "ipython",
    "version": 3
   },
   "file_extension": ".py",
   "mimetype": "text/x-python",
   "name": "python",
   "nbconvert_exporter": "python",
   "pygments_lexer": "ipython3",
   "version": "3.7.4"
  }
 },
 "nbformat": 4,
 "nbformat_minor": 2
}
